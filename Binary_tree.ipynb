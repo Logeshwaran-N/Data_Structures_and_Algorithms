{
 "cells": [
  {
   "cell_type": "markdown",
   "id": "6b653264",
   "metadata": {},
   "source": [
    "1+3"
   ]
  },
  {
   "cell_type": "markdown",
   "id": "13776ef5",
   "metadata": {},
   "source": []
  },
  {
   "cell_type": "code",
   "execution_count": 1,
   "id": "768a0872",
   "metadata": {},
   "outputs": [],
   "source": [
    "class Users():\n",
    "    def __init__(self,username,name,mail,age):\n",
    "        self.username=username\n",
    "        self.name=name\n",
    "        self.mail=mail\n",
    "        self.age=age\n",
    "    def __repr__(self):\n",
    "        return (f'User {self.username} {self.name} {self.age} {self.mail}')\n",
    "    def __str__(self):\n",
    "        return self.__repr__()"
   ]
  },
  {
   "cell_type": "code",
   "execution_count": 2,
   "id": "ef5701e8",
   "metadata": {},
   "outputs": [],
   "source": [
    "logesh=Users('logeshw','logeshwaran','logwn@g.com',23)\n",
    "kavi=Users('kavina','kavinb','kavi@g.com',24)\n",
    "gok=Users('robo','gokushan','gokushan@g.co',25)"
   ]
  },
  {
   "cell_type": "code",
   "execution_count": 3,
   "id": "f405eb82",
   "metadata": {},
   "outputs": [
    {
     "data": {
      "text/plain": [
       "[User logeshw logeshwaran 23 logwn@g.com,\n",
       " User kavina kavinb 24 kavi@g.com,\n",
       " User robo gokushan 25 gokushan@g.co]"
      ]
     },
     "execution_count": 3,
     "metadata": {},
     "output_type": "execute_result"
    }
   ],
   "source": [
    "all_users=[logesh,kavi,gok]\n",
    "all_users"
   ]
  },
  {
   "cell_type": "code",
   "execution_count": 4,
   "id": "ebd38ecf",
   "metadata": {},
   "outputs": [],
   "source": [
    "class UserDB():\n",
    "    def __init__(self):\n",
    "        self.users=[]\n",
    "    def insert(self,user):\n",
    "        self.users.append(user)\n",
    "    def find(self,username):\n",
    "        for item in self.users:\n",
    "            if username == item.username:\n",
    "                return item\n",
    "    def update(self,get_user_detail):\n",
    "        item_to_update=self.find(get_user_detail.username)\n",
    "        item_to_update.name,item_to_update.mail=get_user_detail.name,get_user_detail.mail\n",
    "\n",
    "        "
   ]
  },
  {
   "cell_type": "code",
   "execution_count": 5,
   "id": "05d5321a",
   "metadata": {},
   "outputs": [],
   "source": [
    "all_users_db=UserDB()\n",
    "second_db=UserDB()"
   ]
  },
  {
   "cell_type": "code",
   "execution_count": 6,
   "id": "4a57cfcb",
   "metadata": {},
   "outputs": [],
   "source": [
    "all_users_db.insert(user=logesh)\n",
    "all_users_db.insert(gok)\n",
    "second_db.insert(kavi)\n",
    "second_db.insert(logesh)"
   ]
  },
  {
   "cell_type": "code",
   "execution_count": 7,
   "id": "23e9863c",
   "metadata": {},
   "outputs": [
    {
     "data": {
      "text/plain": [
       "[User logeshw logeshwaran 23 logwn@g.com, User robo gokushan 25 gokushan@g.co]"
      ]
     },
     "execution_count": 7,
     "metadata": {},
     "output_type": "execute_result"
    }
   ],
   "source": [
    "all_users_db.users\n",
    "\n"
   ]
  },
  {
   "cell_type": "code",
   "execution_count": 8,
   "id": "e9170e0b",
   "metadata": {},
   "outputs": [
    {
     "data": {
      "text/plain": [
       "[User kavina kavinb 24 kavi@g.com, User logeshw logeshwaran 23 logwn@g.com]"
      ]
     },
     "execution_count": 8,
     "metadata": {},
     "output_type": "execute_result"
    }
   ],
   "source": [
    "second_db.users"
   ]
  },
  {
   "cell_type": "code",
   "execution_count": 9,
   "id": "67456520",
   "metadata": {},
   "outputs": [
    {
     "data": {
      "text/plain": [
       "User logeshw logeshwaran 23 logwn@g.com"
      ]
     },
     "execution_count": 9,
     "metadata": {},
     "output_type": "execute_result"
    }
   ],
   "source": [
    "all_users_db.find(\"logeshw\")"
   ]
  },
  {
   "cell_type": "code",
   "execution_count": 10,
   "id": "b35ec0a9",
   "metadata": {},
   "outputs": [],
   "source": [
    "all_users_db.update(Users(username='logeshw',name='logeshwaran',mail='logesh.wn@g.co',age=23))"
   ]
  },
  {
   "cell_type": "code",
   "execution_count": 11,
   "id": "6eacf923",
   "metadata": {},
   "outputs": [
    {
     "data": {
      "text/plain": [
       "[User logeshw logeshwaran 23 logesh.wn@g.co,\n",
       " User robo gokushan 25 gokushan@g.co]"
      ]
     },
     "execution_count": 11,
     "metadata": {},
     "output_type": "execute_result"
    }
   ],
   "source": [
    "all_users_db.users\n"
   ]
  },
  {
   "cell_type": "code",
   "execution_count": 12,
   "id": "1f1bfaf6",
   "metadata": {},
   "outputs": [],
   "source": [
    "class Tree:\n",
    "    def __init__(self,key):\n",
    "        self.key=key\n",
    "        self.right=None\n",
    "        self.left=None  \n",
    "    def __repr__(self):\n",
    "        return(f'(left : {self.left} key: {self.key} right: {self.right})')\n",
    "    def __str__(self):\n",
    "        return self.__repr__()"
   ]
  },
  {
   "cell_type": "code",
   "execution_count": 13,
   "id": "a7848976",
   "metadata": {},
   "outputs": [],
   "source": [
    "#Manually creating tree structure\n",
    "# node0=Tree(2)\n",
    "# node1=Tree(3)\n",
    "# node2=Tree(5)\n",
    "# node3=Tree(1)\n",
    "# node4=Tree(3)\n",
    "# node5=Tree(7)\n",
    "# node6=Tree(4)\n",
    "# node7=Tree(6)\n",
    "# node8=Tree(8)"
   ]
  },
  {
   "cell_type": "code",
   "execution_count": 14,
   "id": "cf4ffdc6",
   "metadata": {},
   "outputs": [],
   "source": [
    "# node0.right=node2\n",
    "# node0.left=node1\n",
    "# node1.left=node3\n",
    "# node2.left=node4\n",
    "# node2.right=node5\n",
    "# node4.right=node6\n",
    "# node5.right=node8\n",
    "# node5.left=node7"
   ]
  },
  {
   "cell_type": "code",
   "execution_count": 15,
   "id": "ef45af29",
   "metadata": {
    "scrolled": true
   },
   "outputs": [],
   "source": [
    "# node0"
   ]
  },
  {
   "cell_type": "code",
   "execution_count": 16,
   "id": "6532b51c",
   "metadata": {},
   "outputs": [
    {
     "data": {
      "text/plain": [
       "3"
      ]
     },
     "execution_count": 16,
     "metadata": {},
     "output_type": "execute_result"
    }
   ],
   "source": [
    "len((1,2,None))"
   ]
  },
  {
   "cell_type": "code",
   "execution_count": 22,
   "id": "0f3cc470",
   "metadata": {},
   "outputs": [],
   "source": [
    "def create_tree_from_tuples(data):\n",
    "    if isinstance(data,tuple) and len(data) == 3:\n",
    "        node=Tree(data[1])\n",
    "        node.left=create_tree_from_tuples(data[0])\n",
    "        node.right=create_tree_from_tuples(data[2])\n",
    "    elif data is None:\n",
    "        node=None\n",
    "    else:\n",
    "        node=Tree(data)\n",
    "    return node"
   ]
  },
  {
   "cell_type": "code",
   "execution_count": 23,
   "id": "3cb8729b",
   "metadata": {},
   "outputs": [],
   "source": [
    "data=(1,3,None),2,((None,3,4),5,(6,7,8))\n",
    "tree=create_tree_from_tuples(data)"
   ]
  },
  {
   "cell_type": "code",
   "execution_count": 27,
   "id": "414ded32",
   "metadata": {},
   "outputs": [
    {
     "data": {
      "text/plain": [
       "1"
      ]
     },
     "execution_count": 27,
     "metadata": {},
     "output_type": "execute_result"
    }
   ],
   "source": [
    "tree.left.left.key\n"
   ]
  },
  {
   "cell_type": "markdown",
   "id": "78b429f8",
   "metadata": {},
   "source": [
    "## Look at this video for Traversal methods :https://www.youtube.com/watch?v=WLvU5EQVZqY\n",
    "\n",
    "data=(1,3,None),2,((None,3,4),5,(6,7,8))"
   ]
  },
  {
   "cell_type": "code",
   "execution_count": 33,
   "id": "063f94e7",
   "metadata": {},
   "outputs": [],
   "source": [
    "def in_order_traverse(node):\n",
    "    if node is None:\n",
    "        return []\n",
    "    return in_order_traverse(node.left)+[node.key]+in_order_traverse(node.right)"
   ]
  },
  {
   "cell_type": "code",
   "execution_count": 34,
   "id": "ccb6e67e",
   "metadata": {},
   "outputs": [
    {
     "data": {
      "text/plain": [
       "[1, 3, 2, 3, 4, 5, 6, 7, 8]"
      ]
     },
     "execution_count": 34,
     "metadata": {},
     "output_type": "execute_result"
    }
   ],
   "source": [
    "in_order_traverse(tree)\n"
   ]
  },
  {
   "cell_type": "code",
   "execution_count": 35,
   "id": "06fd5925",
   "metadata": {},
   "outputs": [],
   "source": [
    "def pre_order_traverse(node):\n",
    "    if node is None:\n",
    "        return []\n",
    "    return [node.key]+pre_order_traverse(node.left)+pre_order_traverse(node.right)"
   ]
  },
  {
   "cell_type": "code",
   "execution_count": 36,
   "id": "beb98c59",
   "metadata": {},
   "outputs": [
    {
     "data": {
      "text/plain": [
       "[2, 3, 1, 5, 3, 4, 7, 6, 8]"
      ]
     },
     "execution_count": 36,
     "metadata": {},
     "output_type": "execute_result"
    }
   ],
   "source": [
    "pre_order_traverse(tree)"
   ]
  },
  {
   "cell_type": "code",
   "execution_count": 38,
   "id": "7a01ddb2",
   "metadata": {},
   "outputs": [],
   "source": [
    "def post_order_traverse(node):\n",
    "    if node is None:\n",
    "        return []\n",
    "    return post_order_traverse(node.left)+post_order_traverse(node.right)+[node.key]"
   ]
  },
  {
   "cell_type": "code",
   "execution_count": 39,
   "id": "96dc5c16",
   "metadata": {},
   "outputs": [
    {
     "data": {
      "text/plain": [
       "[1, 3, 4, 3, 6, 8, 7, 5, 2]"
      ]
     },
     "execution_count": 39,
     "metadata": {},
     "output_type": "execute_result"
    }
   ],
   "source": [
    "post_order_traverse(tree)"
   ]
  },
  {
   "cell_type": "code",
   "execution_count": null,
   "id": "cec0a6b8",
   "metadata": {},
   "outputs": [],
   "source": []
  }
 ],
 "metadata": {
  "kernelspec": {
   "display_name": "Python 3 (ipykernel)",
   "language": "python",
   "name": "python3"
  },
  "language_info": {
   "codemirror_mode": {
    "name": "ipython",
    "version": 3
   },
   "file_extension": ".py",
   "mimetype": "text/x-python",
   "name": "python",
   "nbconvert_exporter": "python",
   "pygments_lexer": "ipython3",
   "version": "3.11.4"
  }
 },
 "nbformat": 4,
 "nbformat_minor": 5
}
